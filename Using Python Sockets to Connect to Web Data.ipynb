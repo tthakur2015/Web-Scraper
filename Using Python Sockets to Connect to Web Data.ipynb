{
 "cells": [
  {
   "cell_type": "code",
   "execution_count": 2,
   "id": "0f55515c",
   "metadata": {},
   "outputs": [],
   "source": [
    "import urllib.request, urllib.parse, urllib.error\n",
    "from bs4 import BeautifulSoup\n",
    "import ssl"
   ]
  },
  {
   "cell_type": "code",
   "execution_count": 15,
   "id": "aca17de4",
   "metadata": {},
   "outputs": [
    {
     "name": "stdout",
     "output_type": "stream",
     "text": [
      "{'But': 1, 'soft': 1, 'what': 1, 'light': 1, 'through': 1, 'yonder': 1, 'window': 1, 'breaks': 1, 'It': 1, 'is': 3, 'the': 3, 'east': 1, 'and': 3, 'Juliet': 1, 'sun': 2, 'Arise': 1, 'fair': 1, 'kill': 1, 'envious': 1, 'moon': 1, 'Who': 1, 'already': 1, 'sick': 1, 'pale': 1, 'with': 1, 'grief': 1}\n"
     ]
    }
   ],
   "source": [
    "fhand = urllib.request.urlopen('http://data.pr4e.org/romeo.txt')\n",
    "\n",
    "counts = dict()\n",
    "\n",
    "for line in fhand:\n",
    "    words = line.decode().split()\n",
    "    for word in words:\n",
    "        # Get dictionary method returns the values corresponding to key. If key does not exist, returns 0\n",
    "        counts[word] = counts.get(word, 0) + 1\n",
    "\n",
    "print(counts)"
   ]
  },
  {
   "cell_type": "code",
   "execution_count": 3,
   "id": "8359fd2b",
   "metadata": {},
   "outputs": [],
   "source": [
    "# Ignore SSL certificate errors\n",
    "ctx = ssl.create_default_context()\n",
    "ctx.check_hostname = False\n",
    "ctx.verify_mode = ssl.CERT_NONE"
   ]
  },
  {
   "cell_type": "markdown",
   "id": "5d33fe7b",
   "metadata": {},
   "source": [
    "#### Extract links from webpage entered as an input"
   ]
  },
  {
   "cell_type": "code",
   "execution_count": 5,
   "id": "aaa84240",
   "metadata": {},
   "outputs": [
    {
     "name": "stdout",
     "output_type": "stream",
     "text": [
      "Enter - https://www.si.umich.edu/\n",
      "#main-content\n",
      "/prospective-students\n",
      "/current-students\n",
      "/employers\n",
      "/host-student-project\n",
      "/alumni\n",
      "/giving\n",
      "https://intranet.si.umich.edu/\n",
      "https://www.si.umich.edu/cse?keys\n",
      "/\n",
      "/programs\n",
      "/programs/bachelor-science-information\n",
      "/programs/master-science-information\n",
      "/programs/master-health-informatics\n",
      "/programs/master-applied-data-science-online\n",
      "/programs/phd-information\n",
      "/programs/non-degree-offerings\n",
      "/programs/courses\n",
      "/research\n",
      "/research/research-areas\n",
      "/research/student-research\n",
      "/research/funded-research-projects\n",
      "/research/research-centers-and-groups\n",
      "/research/community-impact-research\n",
      "/student-experience\n",
      "/student-experience/why-study-information\n",
      "/student-experience/academic-success\n",
      "/student-experience/career-development\n",
      "/student-experience/career-outcomes\n",
      "/student-experience/engaged-learning\n",
      "/student-experience/internships\n",
      "/student-experience/student-life\n",
      "/student-experience/life-ann-arbor\n",
      "/about-umsi\n",
      "/about-umsi/deans-welcome\n",
      "/about-umsi/diversity-equity-inclusion-school-information\n",
      "/about-umsi/history-mission-and-goals\n",
      "/about-umsi/fast-facts\n",
      "/about-umsi/umsi-covid-19-updates-and-resources\n",
      "/about-umsi/news\n",
      "/about-umsi/events\n",
      "/about-umsi/newsletters\n",
      "/about-umsi/getting-umsi\n",
      "/about-umsi/distinguished-umsi-alumni\n",
      "/about-umsi/contact-us\n",
      "/people\n",
      "/people/directory\n",
      "/people/leadership-team\n",
      "/people/faces-umsi\n",
      "/people/faculty-recruiting\n",
      "/people/student-organization-representatives\n",
      "/people/umsi-phds-job-market\n",
      "/people/faces-umsi/faces-umsi-sierre-wolfkostin\n",
      "/people/faces-umsi/faces-umsi-sierre-wolfkostin\n",
      "/people/faces-umsi/faces-umsi-corey-schmidt\n",
      "/people/faces-umsi/faces-umsi-corey-schmidt\n",
      "/people/faces-umsi/faces-umsi-jean-hardy\n",
      "/people/faces-umsi/faces-umsi-jean-hardy\n",
      "/people/faces-umsi/faces-umsi-hope-tambala\n",
      "/people/faces-umsi/faces-umsi-hope-tambala\n",
      "/people/faces-umsi/faces-umsi-emily-trumpower\n",
      "/people/faces-umsi/faces-umsi-emily-trumpower\n",
      "https://www.si.umich.edu/about-umsi/umsi-covid-19-updates-and-resources\n",
      "/about-umsi/news/avalon-hu-finding-your-passion-and-paving-your-way-success\n",
      "/about-umsi/news/umsi-students-partner-michigan-communities-solve-real-world-information-problems\n",
      "/about-umsi/news/dillahunt-interdisciplinary-work-and-connecting-communities\n",
      "/about-umsi/news\n",
      "/about-umsi/events/improving-peoples-security-and-privacy-behaviors\n",
      "/about-umsi/events/umsi-alumni-panel-session-library-and-archives-careers\n",
      "/about-umsi/events\n",
      "https://www.facebook.com/uomsi/\n",
      "https://www.instagram.com/umschoolofinformation\n",
      "https://twitter.com/umsi\n",
      "https://www.youtube.com/user/schoolofinformation\n",
      "https://www.linkedin.com/school/university-of-michigan---school-of-information/\n",
      "/about-umsi/contact-us\n",
      "/privacy-statement\n",
      "https://umich.qualtrics.com/jfe/form/SV_9RAiBJITFVOxkHz\n"
     ]
    }
   ],
   "source": [
    "url = input('Enter - ')\n",
    "html = urllib.request.urlopen(url, context = ctx).read()\n",
    "soup = BeautifulSoup(html, 'html.parser')\n",
    "\n",
    "# Retrieving all anchor tags\n",
    "tags = soup('a')\n",
    "for tag in tags:\n",
    "    print(tag.get('href', None))"
   ]
  }
 ],
 "metadata": {
  "kernelspec": {
   "display_name": "Python 3",
   "language": "python",
   "name": "python3"
  },
  "language_info": {
   "codemirror_mode": {
    "name": "ipython",
    "version": 3
   },
   "file_extension": ".py",
   "mimetype": "text/x-python",
   "name": "python",
   "nbconvert_exporter": "python",
   "pygments_lexer": "ipython3",
   "version": "3.8.8"
  }
 },
 "nbformat": 4,
 "nbformat_minor": 5
}
